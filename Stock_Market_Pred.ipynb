{
 "cells": [
  {
   "cell_type": "code",
   "execution_count": 2,
   "id": "1bc9f551",
   "metadata": {},
   "outputs": [],
   "source": [
    "import pandas as pd\n",
    "import numpy as np\n",
    "import matplotlib.pyplot as plt\n"
   ]
  },
  {
   "cell_type": "code",
   "execution_count": 3,
   "id": "a6206eb7",
   "metadata": {},
   "outputs": [
    {
     "data": {
      "text/html": [
       "<div>\n",
       "<style scoped>\n",
       "    .dataframe tbody tr th:only-of-type {\n",
       "        vertical-align: middle;\n",
       "    }\n",
       "\n",
       "    .dataframe tbody tr th {\n",
       "        vertical-align: top;\n",
       "    }\n",
       "\n",
       "    .dataframe thead th {\n",
       "        text-align: right;\n",
       "    }\n",
       "</style>\n",
       "<table border=\"1\" class=\"dataframe\">\n",
       "  <thead>\n",
       "    <tr style=\"text-align: right;\">\n",
       "      <th></th>\n",
       "      <th>Date</th>\n",
       "      <th>Close/Last</th>\n",
       "      <th>Volume</th>\n",
       "      <th>Open</th>\n",
       "      <th>High</th>\n",
       "      <th>Low</th>\n",
       "    </tr>\n",
       "  </thead>\n",
       "  <tbody>\n",
       "    <tr>\n",
       "      <th>0</th>\n",
       "      <td>12/12/2023</td>\n",
       "      <td>$194.71</td>\n",
       "      <td>52696900</td>\n",
       "      <td>$193.08</td>\n",
       "      <td>$194.72</td>\n",
       "      <td>$191.721</td>\n",
       "    </tr>\n",
       "    <tr>\n",
       "      <th>1</th>\n",
       "      <td>12/11/2023</td>\n",
       "      <td>$193.18</td>\n",
       "      <td>60943700</td>\n",
       "      <td>$193.11</td>\n",
       "      <td>$193.49</td>\n",
       "      <td>$191.42</td>\n",
       "    </tr>\n",
       "    <tr>\n",
       "      <th>2</th>\n",
       "      <td>12/08/2023</td>\n",
       "      <td>$195.71</td>\n",
       "      <td>53406360</td>\n",
       "      <td>$194.20</td>\n",
       "      <td>$195.99</td>\n",
       "      <td>$193.67</td>\n",
       "    </tr>\n",
       "    <tr>\n",
       "      <th>3</th>\n",
       "      <td>12/07/2023</td>\n",
       "      <td>$194.27</td>\n",
       "      <td>47477660</td>\n",
       "      <td>$193.63</td>\n",
       "      <td>$195.00</td>\n",
       "      <td>$193.59</td>\n",
       "    </tr>\n",
       "    <tr>\n",
       "      <th>4</th>\n",
       "      <td>12/06/2023</td>\n",
       "      <td>$192.32</td>\n",
       "      <td>41089740</td>\n",
       "      <td>$194.45</td>\n",
       "      <td>$194.76</td>\n",
       "      <td>$192.11</td>\n",
       "    </tr>\n",
       "  </tbody>\n",
       "</table>\n",
       "</div>"
      ],
      "text/plain": [
       "         Date Close/Last    Volume     Open     High       Low\n",
       "0  12/12/2023    $194.71  52696900  $193.08  $194.72  $191.721\n",
       "1  12/11/2023    $193.18  60943700  $193.11  $193.49   $191.42\n",
       "2  12/08/2023    $195.71  53406360  $194.20  $195.99   $193.67\n",
       "3  12/07/2023    $194.27  47477660  $193.63  $195.00   $193.59\n",
       "4  12/06/2023    $192.32  41089740  $194.45  $194.76   $192.11"
      ]
     },
     "execution_count": 3,
     "metadata": {},
     "output_type": "execute_result"
    }
   ],
   "source": [
    "AAPL_Stock = pd.read_csv(\"AAPL_Stock-2018-2023.csv\") # Read in AAPL stock prices from 2018-2023\n",
    "AAPL_Stock.head()"
   ]
  },
  {
   "cell_type": "code",
   "execution_count": null,
   "id": "05c162b0",
   "metadata": {},
   "outputs": [],
   "source": []
  }
 ],
 "metadata": {
  "kernelspec": {
   "display_name": "Python 3 (ipykernel)",
   "language": "python",
   "name": "python3"
  },
  "language_info": {
   "codemirror_mode": {
    "name": "ipython",
    "version": 3
   },
   "file_extension": ".py",
   "mimetype": "text/x-python",
   "name": "python",
   "nbconvert_exporter": "python",
   "pygments_lexer": "ipython3",
   "version": "3.9.13"
  }
 },
 "nbformat": 4,
 "nbformat_minor": 5
}
